{
 "metadata": {
  "name": "",
  "signature": "sha256:7ba9a952ab6bb4038baea7a69a223cb22abc3d1af923746956e8e112b4aa4436"
 },
 "nbformat": 3,
 "nbformat_minor": 0,
 "worksheets": [
  {
   "cells": [
    {
     "cell_type": "code",
     "collapsed": false,
     "input": [
      "from IPython.display import Javascript, display_javascript, HTML, display_html"
     ],
     "language": "python",
     "metadata": {},
     "outputs": []
    },
    {
     "cell_type": "code",
     "collapsed": false,
     "input": [
      "html = \"\"\"<div id=\"chart\"></div>\"\"\"\n",
      "display_html(HTML(html))\n",
      "js = \"\"\"\n",
      "require.config({\n",
      "    paths: {\n",
      "        d3: \"http://d3js.org/d3.v3.min\",\n",
      "        d3po: \"http://localhost:8000/d3po_coffee\"\n",
      "    }\n",
      "});\n",
      "require([\"d3\",\"jquery\"],function(d3,$) {\n",
      "    require([\"d3po\"], function(d3po) {\n",
      "        var c = d3po.chart({target:\"#chart\",background:\"#222\",axis:true}),\n",
      "            data = d3po.randomLine();\n",
      "\n",
      "        c.lines(data,{color:\"white\",extend_edges:true});\n",
      "    })\n",
      "});\n",
      "\"\"\"\n",
      "display_javascript(Javascript(js))"
     ],
     "language": "python",
     "metadata": {},
     "outputs": [
      {
       "html": [
        "<div id=\"chart\"></div>"
       ],
       "metadata": {},
       "output_type": "display_data"
      },
      {
       "javascript": [
        "\n",
        "require.config({\n",
        "    paths: {\n",
        "        d3: \"http://d3js.org/d3.v3.min\",\n",
        "        d3po: \"http://localhost:8000/d3po_coffee\"\n",
        "    }\n",
        "});\n",
        "require([\"d3\",\"jquery\"],function(d3,$) {\n",
        "    require([\"d3po\"], function(d3po) {\n",
        "        var c = d3po.chart({target:\"#chart\",background:\"#222\",axis:true}),\n",
        "            data = d3po.randomLine();\n",
        "\n",
        "        c.lines(data,{color:\"white\",extend_edges:true});\n",
        "    })\n",
        "});\n"
       ],
       "metadata": {},
       "output_type": "display_data"
      }
     ],
     "prompt_number": 152
    }
   ],
   "metadata": {}
  }
 ]
}