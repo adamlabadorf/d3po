{
 "metadata": {
  "name": "d3po"
 },
 "nbformat": 3,
 "nbformat_minor": 0,
 "worksheets": [
  {
   "cells": [
    {
     "cell_type": "code",
     "collapsed": false,
     "input": [
      "from numpy.random import normal\n",
      "from random import random\n",
      "import urllib2\n",
      "from IPython.display import HTML\n",
      "exec urllib2.urlopen('http://adamlabadorf.github.io/src/d3po/src/d3pyo.py').read()\n",
      "#print d3po_init()\n",
      "HTML(d3po_init())"
     ],
     "language": "python",
     "metadata": {},
     "outputs": [
      {
       "html": [
        "    <div>\n",
        "        d3pyo initialized, v0.2\n",
        "    </div>\n",
        "    <script language=\"JavaScript\">\n",
        "    console.log(\"d3pyo v0.2, initializing...\");\n",
        "    function loadJS(src) {\n",
        "        var oHead = document.getElementsByTagName('HEAD').item(0);\n",
        "        var oScript= document.createElement(\"script\");\n",
        "        oScript.type = \"text/javascript\";\n",
        "        oScript.src=src;\n",
        "        oHead.appendChild( oScript);\n",
        "        \n",
        "    };\n",
        "\n",
        "    // I was trying to figure out how to make the\n",
        "    // browser wait until things were loaded\n",
        "    var checkLoaded = function(varname) {\n",
        "        setTimeout(function() {\n",
        "            try {\n",
        "                console.log('checking for '+varname);\n",
        "                eval(varname);\n",
        "                console.log(varname+' loaded');\n",
        "            } catch(e) {\n",
        "                console.log('checkLoaded('+varname+'): '+e);\n",
        "                setTimeout(checkLoaded(varname),100);\n",
        "            }\n",
        "        },100);\n",
        "    }\n",
        "\n",
        "    try { $; console.log(\"jquery loaded\"); }\n",
        "    catch(e) {\n",
        "        console.log(\"loading jquery\");\n",
        "        loadJS(\"http://d3js.org/d3.v3.min.js\");\n",
        "    }\n",
        "\n",
        "    try { d3; console.log(\"d3 loaded\"); }\n",
        "    catch(e) {\n",
        "        console.log(\"loading d3\");\n",
        "        loadJS(\"http://d3js.org/d3.v3.min.js\");\n",
        "    }\n",
        "\n",
        "    try { d3po; console.log(\"d3po loaded\"); }\n",
        "    catch(e) {\n",
        "        console.log(\"loading d3po\");\n",
        "        loadJS(\"http://adamlabadorf.github.io/lib/d3po.js\");\n",
        "    }\n",
        "    </script>"
       ],
       "output_type": "pyout",
       "prompt_number": 218,
       "text": [
        "<IPython.core.display.HTML at 0x3f59090>"
       ]
      }
     ],
     "prompt_number": 218
    },
    {
     "cell_type": "code",
     "collapsed": false,
     "input": [
      "data = []\n",
      "for i in range(10) :\n",
      "    data.append({\"x\":normal(0,10),\n",
      "                 \"y\":normal(0,1),\n",
      "                 \"size\":normal()})\n",
      "data.sort(key=lambda x: x['x'])\n",
      "chart = Chart({'zoom_opts':{'geometric':True},'axis_opts':{'aspect':'equals'}})\n",
      "chart.lines(data,{'extend_edges':True})\n",
      "chart.scatter(data)\n",
      "chart.lines([{'x':0,'y':0},{'x':1,'y':1}],{'extend_edges':True})\n",
      "#print chart.js\n",
      "HTML(chart.js)"
     ],
     "language": "python",
     "metadata": {},
     "outputs": [
      {
       "output_type": "stream",
       "stream": "stdout",
       "text": [
        "<div id=\"chart_1\">\n",
        "</div>\n",
        "<script type=\"text/javascript\">\n",
        "    var intId_chart_1 = window.setInterval(\n",
        "    function() {\n",
        "        console.log('running setInterval '+intId_chart_1);\n",
        "        console.log($);\n",
        "        console.log(d3);\n",
        "        console.log(d3po);\n",
        "        try {\n",
        "            $;\n",
        "            d3;\n",
        "            d3po;\n",
        "\n",
        "            console.log('libraries loaded, making chart');\n",
        "            var chart, data;\n",
        "            chart = d3po.chart(\n",
        "                {\"axis_opts\": {\"aspect\": \"equals\"}, \"target\": \"#chart_1\", \"zoom_opts\": {\"geometric\": true}}\n",
        "                );\n",
        "            var data_0 = [{\"y\": -0.5112974516023798, \"x\": -8.831239264295492, \"size\": 0.0644173765465529}, {\"y\": 0.4701192699358767, \"x\": -4.8940692693629915, \"size\": 0.895505815322344}, {\"y\": 0.43437260465190114, \"x\": -3.9457624309369725, \"size\": -0.7920067236314565}, {\"y\": -0.164968791404829, \"x\": -3.78090273487861, \"size\": -0.5760750051676096}, {\"y\": -0.8652906815525933, \"x\": -3.4450302686525527, \"size\": -0.3842569181661453}, {\"y\": 0.9392863392628341, \"x\": -2.7800679539002635, \"size\": 2.206496363888734}, {\"y\": -1.7174849888432548, \"x\": -2.04792922765868, \"size\": 0.3494462373640739}, {\"y\": -1.2731885186678622, \"x\": 2.82509998084562, \"size\": -0.8087378708653601}, {\"y\": 0.7171648773794213, \"x\": 10.785256444751617, \"size\": -0.610993951209595}, {\"y\": -1.617322041612092, \"x\": 30.5854224795688, \"size\": 0.4807654382992151}];\n",
        "chart.lines(data_0,{\"extend_edges\": true});\n",
        "var data_1 = [{\"y\": -0.5112974516023798, \"x\": -8.831239264295492, \"size\": 0.0644173765465529}, {\"y\": 0.4701192699358767, \"x\": -4.8940692693629915, \"size\": 0.895505815322344}, {\"y\": 0.43437260465190114, \"x\": -3.9457624309369725, \"size\": -0.7920067236314565}, {\"y\": -0.164968791404829, \"x\": -3.78090273487861, \"size\": -0.5760750051676096}, {\"y\": -0.8652906815525933, \"x\": -3.4450302686525527, \"size\": -0.3842569181661453}, {\"y\": 0.9392863392628341, \"x\": -2.7800679539002635, \"size\": 2.206496363888734}, {\"y\": -1.7174849888432548, \"x\": -2.04792922765868, \"size\": 0.3494462373640739}, {\"y\": -1.2731885186678622, \"x\": 2.82509998084562, \"size\": -0.8087378708653601}, {\"y\": 0.7171648773794213, \"x\": 10.785256444751617, \"size\": -0.610993951209595}, {\"y\": -1.617322041612092, \"x\": 30.5854224795688, \"size\": 0.4807654382992151}];\n",
        "chart.scatter(data_1,{});\n",
        "var data_2 = [{\"y\": 0, \"x\": 0}, {\"y\": 1, \"x\": 1}];\n",
        "chart.lines(data_2,{\"extend_edges\": true});\n",
        "\n",
        "            window.clearInterval(intId_chart_1);\n",
        "        } catch(e) {\n",
        "            console.log('not loaded yet: '+e);\n",
        "        }\n",
        "    },500);\n",
        "</script>\n",
        "\n"
       ]
      },
      {
       "html": [
        "<div id=\"chart_1\">\n",
        "</div>\n",
        "<script type=\"text/javascript\">\n",
        "    var intId_chart_1 = window.setInterval(\n",
        "    function() {\n",
        "        console.log('running setInterval '+intId_chart_1);\n",
        "        console.log($);\n",
        "        console.log(d3);\n",
        "        console.log(d3po);\n",
        "        try {\n",
        "            $;\n",
        "            d3;\n",
        "            d3po;\n",
        "\n",
        "            console.log('libraries loaded, making chart');\n",
        "            var chart, data;\n",
        "            chart = d3po.chart(\n",
        "                {\"axis_opts\": {\"aspect\": \"equals\"}, \"target\": \"#chart_1\", \"zoom_opts\": {\"geometric\": true}}\n",
        "                );\n",
        "            var data_0 = [{\"y\": -0.5112974516023798, \"x\": -8.831239264295492, \"size\": 0.0644173765465529}, {\"y\": 0.4701192699358767, \"x\": -4.8940692693629915, \"size\": 0.895505815322344}, {\"y\": 0.43437260465190114, \"x\": -3.9457624309369725, \"size\": -0.7920067236314565}, {\"y\": -0.164968791404829, \"x\": -3.78090273487861, \"size\": -0.5760750051676096}, {\"y\": -0.8652906815525933, \"x\": -3.4450302686525527, \"size\": -0.3842569181661453}, {\"y\": 0.9392863392628341, \"x\": -2.7800679539002635, \"size\": 2.206496363888734}, {\"y\": -1.7174849888432548, \"x\": -2.04792922765868, \"size\": 0.3494462373640739}, {\"y\": -1.2731885186678622, \"x\": 2.82509998084562, \"size\": -0.8087378708653601}, {\"y\": 0.7171648773794213, \"x\": 10.785256444751617, \"size\": -0.610993951209595}, {\"y\": -1.617322041612092, \"x\": 30.5854224795688, \"size\": 0.4807654382992151}];\n",
        "chart.lines(data_0,{\"extend_edges\": true});\n",
        "var data_1 = [{\"y\": -0.5112974516023798, \"x\": -8.831239264295492, \"size\": 0.0644173765465529}, {\"y\": 0.4701192699358767, \"x\": -4.8940692693629915, \"size\": 0.895505815322344}, {\"y\": 0.43437260465190114, \"x\": -3.9457624309369725, \"size\": -0.7920067236314565}, {\"y\": -0.164968791404829, \"x\": -3.78090273487861, \"size\": -0.5760750051676096}, {\"y\": -0.8652906815525933, \"x\": -3.4450302686525527, \"size\": -0.3842569181661453}, {\"y\": 0.9392863392628341, \"x\": -2.7800679539002635, \"size\": 2.206496363888734}, {\"y\": -1.7174849888432548, \"x\": -2.04792922765868, \"size\": 0.3494462373640739}, {\"y\": -1.2731885186678622, \"x\": 2.82509998084562, \"size\": -0.8087378708653601}, {\"y\": 0.7171648773794213, \"x\": 10.785256444751617, \"size\": -0.610993951209595}, {\"y\": -1.617322041612092, \"x\": 30.5854224795688, \"size\": 0.4807654382992151}];\n",
        "chart.scatter(data_1,{});\n",
        "var data_2 = [{\"y\": 0, \"x\": 0}, {\"y\": 1, \"x\": 1}];\n",
        "chart.lines(data_2,{\"extend_edges\": true});\n",
        "\n",
        "            window.clearInterval(intId_chart_1);\n",
        "        } catch(e) {\n",
        "            console.log('not loaded yet: '+e);\n",
        "        }\n",
        "    },500);\n",
        "</script>\n"
       ],
       "output_type": "pyout",
       "prompt_number": 220,
       "text": [
        "<IPython.core.display.HTML at 0x3f66290>"
       ]
      }
     ],
     "prompt_number": 220
    },
    {
     "cell_type": "code",
     "collapsed": false,
     "input": [
      "data = []\n",
      "for i in range(10) :\n",
      "    for j in range(20) :\n",
      "        data.append({\"x\":j,\n",
      "                     \"y\":i,\n",
      "                     \"v\":normal()})\n",
      "data.sort(key=lambda x: x['x'])\n",
      "chart = Chart({'zoom_opts':{'geometric':True},\n",
      "                 'axis_opts':{'aspect':'none'},\n",
      "                 'padding':'none'})\n",
      "chart.heatmap(data,{'colors':['white','pink']})\n",
      "#print chart.js\n",
      "HTML(chart.js)"
     ],
     "language": "python",
     "metadata": {},
     "outputs": []
    },
    {
     "cell_type": "code",
     "collapsed": false,
     "input": [
      "import numpy as np\n",
      "data_size = 300\n",
      "noise_size = 3\n",
      "noise_center = (20,-5)\n",
      "x = np.random.multivariate_normal((0,0),[(1,0.75),(0.75,1)],size=data_size)\n",
      "noise = np.random.multivariate_normal(noise_center,[(0.5,0.1),(0.2,0.9)],size=noise_size)\n",
      "datamat = np.concatenate((x,noise))\n",
      "U,S,V = np.linalg.svd(datamat)\n",
      "data = []\n",
      "for r in x:\n",
      "    data.append({'x':r[0],'y':r[1],'shape':'circle','fill':'#9999ff','stroke':'blue','alpha':0.8})\n",
      "for r in noise :\n",
      "    data.append({'x':r[0],'y':r[1],'shape':'triangle-up','fill':'green'})"
     ],
     "language": "python",
     "metadata": {},
     "outputs": []
    },
    {
     "cell_type": "code",
     "collapsed": false,
     "input": [
      "chart = Chart({'zoom':False})\n",
      "chart.scatter(data)\n",
      "for v in V:\n",
      "    chart.lines([{'x':0,'y':0},{'x':v[0],'y':v[1]}],{'extend_edges':True})\n",
      "#print chart.js\n",
      "HTML(chart.js)"
     ],
     "language": "python",
     "metadata": {},
     "outputs": []
    },
    {
     "cell_type": "code",
     "collapsed": false,
     "input": [],
     "language": "python",
     "metadata": {},
     "outputs": []
    }
   ],
   "metadata": {}
  }
 ]
}