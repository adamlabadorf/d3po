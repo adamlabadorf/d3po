{
 "metadata": {
  "name": "d3po"
 },
 "nbformat": 3,
 "nbformat_minor": 0,
 "worksheets": [
  {
   "cells": [
    {
     "cell_type": "code",
     "collapsed": false,
     "input": [
      "src = \"\"\"\n",
      "<div id=\"%(name)s\">\n",
      "</div>\n",
      "<script type=\"text/javascript\" src=\"http://d3js.org/d3.v3.min.js\" charset=\"utf-8\"></script>\n",
      "<script type=\"text/javascript\" src=\"http://localhost:8000/d3po.js\" ></script>\n",
      "<script type=\"text/javascript\">\n",
      "setTimeout(function() {\n",
      "    var chart, data;\n",
      "    chart = d3po.chart({\n",
      "                    target:\"#%(name)s\",\n",
      "                    width:%(width)d\n",
      "                    });\n",
      "    data = d3po.randomScatter();\n",
      "    chart.scatter(data);\n",
      "},2);\n",
      "</script>\n",
      "\"\"\"\n",
      "from IPython.display import HTML\n",
      "h = HTML(src%{'name':'test','width':600})\n",
      "print h.data\n",
      "h"
     ],
     "language": "python",
     "metadata": {},
     "outputs": [
      {
       "output_type": "stream",
       "stream": "stdout",
       "text": [
        "\n",
        "<div id=\"test\">\n",
        "</div>\n",
        "<script type=\"text/javascript\" src=\"http://d3js.org/d3.v3.min.js\" charset=\"utf-8\"></script>\n",
        "<script type=\"text/javascript\" src=\"http://localhost:8000/d3po.js\" ></script>\n",
        "<script type=\"text/javascript\">\n",
        "setTimeout(function() {\n",
        "    var chart, data;\n",
        "    chart = d3po.chart({\n",
        "                    target:\"#test\",\n",
        "                    width:600\n",
        "                    });\n",
        "    data = d3po.randomScatter();\n",
        "    chart.scatter(data);\n",
        "},2);\n",
        "</script>\n",
        "\n"
       ]
      },
      {
       "html": [
        "\n",
        "<div id=\"test\">\n",
        "</div>\n",
        "<script type=\"text/javascript\" src=\"http://d3js.org/d3.v3.min.js\" charset=\"utf-8\"></script>\n",
        "<script type=\"text/javascript\" src=\"http://localhost:8000/d3po.js\" ></script>\n",
        "<script type=\"text/javascript\">\n",
        "setTimeout(function() {\n",
        "    var chart, data;\n",
        "    chart = d3po.chart({\n",
        "                    target:\"#test\",\n",
        "                    width:600\n",
        "                    });\n",
        "    data = d3po.randomScatter();\n",
        "    chart.scatter(data);\n",
        "},2);\n",
        "</script>\n"
       ],
       "output_type": "pyout",
       "prompt_number": 13,
       "text": [
        "<IPython.core.display.HTML at 0x3319490>"
       ]
      }
     ],
     "prompt_number": 13
    }
   ],
   "metadata": {}
  }
 ]
}